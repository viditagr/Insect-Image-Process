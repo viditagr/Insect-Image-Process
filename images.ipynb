{
 "cells": [
  {
   "cell_type": "code",
   "execution_count": 1,
   "metadata": {},
   "outputs": [
    {
     "name": "stdout",
     "output_type": "stream",
     "text": [
      "             file_name\n",
      "label                 \n",
      "Noise             8194\n",
      "Parasitoids        100\n",
      "Pests             2054\n",
      "Pollinators         92\n",
      "Predators          358\n",
      "Unknown           1259\n"
     ]
    }
   ],
   "source": [
    "csv_path = \"/Users/vidit/Documents/Entom/Vision Processing/image_labels.csv\"\n",
    "import csv\n",
    "import os\n",
    "import pandas as pd\n",
    "\n",
    "df = pd.read_csv(csv_path)\n",
    "\n",
    "#group it according to the label and get the count of each label\n",
    "\n",
    "df = df.groupby('label').count()\n",
    "print(df)\n"
   ]
  },
  {
   "cell_type": "code",
   "execution_count": null,
   "metadata": {},
   "outputs": [],
   "source": []
  }
 ],
 "metadata": {
  "kernelspec": {
   "display_name": "Python 3",
   "language": "python",
   "name": "python3"
  },
  "language_info": {
   "codemirror_mode": {
    "name": "ipython",
    "version": 3
   },
   "file_extension": ".py",
   "mimetype": "text/x-python",
   "name": "python",
   "nbconvert_exporter": "python",
   "pygments_lexer": "ipython3",
   "version": "3.11.5"
  }
 },
 "nbformat": 4,
 "nbformat_minor": 2
}
